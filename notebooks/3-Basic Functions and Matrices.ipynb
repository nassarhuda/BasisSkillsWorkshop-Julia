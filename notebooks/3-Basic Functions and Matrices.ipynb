{
 "cells": [
  {
   "cell_type": "code",
   "execution_count": 13,
   "metadata": {
    "collapsed": false
   },
   "outputs": [
    {
     "data": {
      "text/plain": [
       "hello (generic function with 2 methods)"
      ]
     },
     "execution_count": 13,
     "metadata": {},
     "output_type": "execute_result"
    }
   ],
   "source": [
    "function hello(ARGS)\n",
    "    for x in ARGS\n",
    "        println(\"Hello \", x, \", how are you doing today?\")\n",
    "    end\n",
    "end"
   ]
  },
  {
   "cell_type": "code",
   "execution_count": 16,
   "metadata": {
    "collapsed": false
   },
   "outputs": [
    {
     "name": "stdout",
     "output_type": "stream",
     "text": [
      "Hello name1, how are you doing today?\n",
      "Hello name2, how are you doing today?\n"
     ]
    }
   ],
   "source": [
    "hello([\"name1\",\"name2\"])"
   ]
  },
  {
   "cell_type": "code",
   "execution_count": 22,
   "metadata": {
    "collapsed": false
   },
   "outputs": [],
   "source": [
    "A = 1:9\n",
    "A = reshape(A,3,3)'\n",
    "B = 0:-1:-8\n",
    "B = reshape(B,3,3)\n",
    "M = A*B;"
   ]
  },
  {
   "cell_type": "code",
   "execution_count": 20,
   "metadata": {
    "collapsed": false
   },
   "outputs": [
    {
     "ename": "LoadError",
     "evalue": "LoadError: MethodError: `A_mul_B!` has no method matching A_mul_B!(::Array{Float64,1}, ::Array{Float64,2}, ::UnitRange{Int64})\nClosest candidates are:\n  A_mul_B!{T<:Union{Complex{Float32},Complex{Float64},Float32,Float64}}(::Union{DenseArray{T<:Union{Complex{Float32},Complex{Float64},Float32,Float64},1},SubArray{T<:Union{Complex{Float32},Complex{Float64},Float32,Float64},1,A<:DenseArray{T,N},I<:Tuple{Vararg{Union{Colon,Int64,Range{Int64}}}},LD}}, ::Union{DenseArray{T<:Union{Complex{Float32},Complex{Float64},Float32,Float64},1},DenseArray{T<:Union{Complex{Float32},Complex{Float64},Float32,Float64},2},SubArray{T<:Union{Complex{Float32},Complex{Float64},Float32,Float64},1,A<:DenseArray{T,N},I<:Tuple{Vararg{Union{Colon,Int64,Range{Int64}}}},LD},SubArray{T<:Union{Complex{Float32},Complex{Float64},Float32,Float64},2,A<:DenseArray{T,N},I<:Tuple{Vararg{Union{Colon,Int64,Range{Int64}}}},LD}}, !Matched::Union{DenseArray{T<:Union{Complex{Float32},Complex{Float64},Float32,Float64},1},SubArray{T<:Union{Complex{Float32},Complex{Float64},Float32,Float64},1,A<:DenseArray{T,N},I<:Tuple{Vararg{Union{Colon,Int64,Range{Int64}}}},LD}})\n  A_mul_B!(::Union{DenseArray{T,1},SubArray{T,1,A<:DenseArray{T,N},I<:Tuple{Vararg{Union{Colon,Int64,Range{Int64}}}},LD}}, ::Union{DenseArray{T,1},DenseArray{T,2},SubArray{T,1,A<:DenseArray{T,N},I<:Tuple{Vararg{Union{Colon,Int64,Range{Int64}}}},LD},SubArray{T,2,A<:DenseArray{T,N},I<:Tuple{Vararg{Union{Colon,Int64,Range{Int64}}}},LD}}, !Matched::Union{DenseArray{T,1},SubArray{T,1,A<:DenseArray{T,N},I<:Tuple{Vararg{Union{Colon,Int64,Range{Int64}}}},LD}})\n  A_mul_B!(::Union{AbstractArray{T,1},AbstractArray{T,2}}, !Matched::Tridiagonal{T}, ::Union{AbstractArray{T,1},AbstractArray{T,2}})\n  ...\nwhile loading In[20], in expression starting on line 3",
     "output_type": "error",
     "traceback": [
      "LoadError: MethodError: `A_mul_B!` has no method matching A_mul_B!(::Array{Float64,1}, ::Array{Float64,2}, ::UnitRange{Int64})\nClosest candidates are:\n  A_mul_B!{T<:Union{Complex{Float32},Complex{Float64},Float32,Float64}}(::Union{DenseArray{T<:Union{Complex{Float32},Complex{Float64},Float32,Float64},1},SubArray{T<:Union{Complex{Float32},Complex{Float64},Float32,Float64},1,A<:DenseArray{T,N},I<:Tuple{Vararg{Union{Colon,Int64,Range{Int64}}}},LD}}, ::Union{DenseArray{T<:Union{Complex{Float32},Complex{Float64},Float32,Float64},1},DenseArray{T<:Union{Complex{Float32},Complex{Float64},Float32,Float64},2},SubArray{T<:Union{Complex{Float32},Complex{Float64},Float32,Float64},1,A<:DenseArray{T,N},I<:Tuple{Vararg{Union{Colon,Int64,Range{Int64}}}},LD},SubArray{T<:Union{Complex{Float32},Complex{Float64},Float32,Float64},2,A<:DenseArray{T,N},I<:Tuple{Vararg{Union{Colon,Int64,Range{Int64}}}},LD}}, !Matched::Union{DenseArray{T<:Union{Complex{Float32},Complex{Float64},Float32,Float64},1},SubArray{T<:Union{Complex{Float32},Complex{Float64},Float32,Float64},1,A<:DenseArray{T,N},I<:Tuple{Vararg{Union{Colon,Int64,Range{Int64}}}},LD}})\n  A_mul_B!(::Union{DenseArray{T,1},SubArray{T,1,A<:DenseArray{T,N},I<:Tuple{Vararg{Union{Colon,Int64,Range{Int64}}}},LD}}, ::Union{DenseArray{T,1},DenseArray{T,2},SubArray{T,1,A<:DenseArray{T,N},I<:Tuple{Vararg{Union{Colon,Int64,Range{Int64}}}},LD},SubArray{T,2,A<:DenseArray{T,N},I<:Tuple{Vararg{Union{Colon,Int64,Range{Int64}}}},LD}}, !Matched::Union{DenseArray{T,1},SubArray{T,1,A<:DenseArray{T,N},I<:Tuple{Vararg{Union{Colon,Int64,Range{Int64}}}},LD}})\n  A_mul_B!(::Union{AbstractArray{T,1},AbstractArray{T,2}}, !Matched::Tridiagonal{T}, ::Union{AbstractArray{T,1},AbstractArray{T,2}})\n  ...\nwhile loading In[20], in expression starting on line 3",
      "",
      " in Ac_mul_B at operators.jl:163"
     ]
    }
   ],
   "source": [
    "# this will generate an error\n",
    "x = ones(1000,1);\n",
    "y = 1:1000;\n",
    "x_dot_y = x'*y;\n",
    "println(x_dot_y);"
   ]
  },
  {
   "cell_type": "code",
   "execution_count": 21,
   "metadata": {
    "collapsed": false
   },
   "outputs": [
    {
     "name": "stdout",
     "output_type": "stream",
     "text": [
      "[500500.0]\n"
     ]
    }
   ],
   "source": [
    "x = ones(1000,1);\n",
    "y = collect(1:1000);\n",
    "x_dot_y = x'*y;\n",
    "println(x_dot_y);"
   ]
  },
  {
   "cell_type": "code",
   "execution_count": 23,
   "metadata": {
    "collapsed": false
   },
   "outputs": [
    {
     "name": "stdout",
     "output_type": "stream",
     "text": [
      "[5.0 5.0 5.0\n",
      " 3.0 3.0 3.0\n",
      " -1.0 -1.0 -1.0]\n"
     ]
    }
   ],
   "source": [
    "x = [5 3 -1]';\n",
    "e = ones(3,1);\n",
    "exT = e*x';\n",
    "xeT = x*e';\n",
    "println(xeT);"
   ]
  },
  {
   "cell_type": "code",
   "execution_count": 24,
   "metadata": {
    "collapsed": false
   },
   "outputs": [
    {
     "name": "stdout",
     "output_type": "stream",
     "text": [
      "[0 0 1\n",
      " 0 0 2\n",
      " 0 0 3]\n"
     ]
    }
   ],
   "source": [
    "x = [1 2 3]'\n",
    "e1 = [1 0 0]'\n",
    "e3 = [0 0 1]'\n",
    "e1xT = e1*x';\n",
    "xe3T = x*e3'\n",
    "println(xe3T);"
   ]
  },
  {
   "cell_type": "code",
   "execution_count": 25,
   "metadata": {
    "collapsed": false
   },
   "outputs": [
    {
     "data": {
      "text/plain": [
       "5x5 Array{Float64,2}:\n",
       " 0.53352     0.624571   0.957504   0.386542  0.908649 \n",
       " 0.00809016  0.863282   0.0395534  0.591512  0.164629 \n",
       " 0.710279    0.0470675  0.523217   0.90947   0.0623155\n",
       " 0.137988    0.690597   0.196376   0.984792  0.904705 \n",
       " 0.470293    0.768976   0.819062   0.836116  0.960817 "
      ]
     },
     "execution_count": 25,
     "metadata": {},
     "output_type": "execute_result"
    }
   ],
   "source": [
    "A = rand(5,5)"
   ]
  },
  {
   "cell_type": "code",
   "execution_count": 28,
   "metadata": {
    "collapsed": false
   },
   "outputs": [
    {
     "data": {
      "text/plain": [
       "(\n",
       "5x5 Array{Float64,2}:\n",
       " -0.501356   0.317916    0.56502   -0.2335      0.523261 \n",
       " -0.271049  -0.582134   -0.286618  -0.705434    0.0886818\n",
       " -0.321123   0.583598   -0.735964  -0.0450634   0.112335 \n",
       " -0.475806  -0.465226   -0.157234   0.667634    0.294475 \n",
       " -0.587931   0.0550217   0.179545   0.0086411  -0.786765 ,\n",
       "\n",
       "[2.9846788650810074,0.9608446715631855,0.8353865296987807,0.44647036610759766,0.041056698986964575],\n",
       "5x5 Array{Float64,2}:\n",
       " -0.28141    0.563153  -0.192566  -0.148055   0.738014\n",
       " -0.449943  -0.578127   0.120067  -0.647828   0.170948\n",
       " -0.41337    0.562459   0.312172  -0.306565  -0.566861\n",
       " -0.53819   -0.107024  -0.74839    0.260244  -0.266614\n",
       " -0.507776  -0.144271   0.539411   0.629832   0.183567)"
      ]
     },
     "execution_count": 28,
     "metadata": {},
     "output_type": "execute_result"
    }
   ],
   "source": [
    "svd(A)"
   ]
  },
  {
   "cell_type": "code",
   "execution_count": 29,
   "metadata": {
    "collapsed": false
   },
   "outputs": [
    {
     "data": {
      "text/plain": [
       "(\n",
       "5x5 Array{Float64,2}:\n",
       " 1.0        0.0       0.0       0.0       0.0\n",
       " 0.0113901  1.0       0.0       0.0       0.0\n",
       " 0.751141   0.682955  1.0       0.0       0.0\n",
       " 0.194273   0.789866  0.125924  1.0       0.0\n",
       " 0.662125   0.85519   0.819679  0.699776  1.0,\n",
       "\n",
       "5x5 Array{Float64,2}:\n",
       " 0.710279  0.0470675  0.523217    0.90947    0.0623155\n",
       " 0.0       0.862746   0.0335939   0.581153   0.163919 \n",
       " 0.0       0.0        0.541551   -0.6935     0.749892 \n",
       " 0.0       0.0        0.0         0.436403   0.668695 \n",
       " 0.0       0.0        0.0         0.0       -0.303233 ,\n",
       "\n",
       "[3,2,1,4,5])"
      ]
     },
     "execution_count": 29,
     "metadata": {},
     "output_type": "execute_result"
    }
   ],
   "source": [
    "lu(A)"
   ]
  },
  {
   "cell_type": "code",
   "execution_count": 30,
   "metadata": {
    "collapsed": false
   },
   "outputs": [
    {
     "ename": "LoadError",
     "evalue": "LoadError: Base.LinAlg.PosDefException(3)\nwhile loading In[30], in expression starting on line 1",
     "output_type": "error",
     "traceback": [
      "LoadError: Base.LinAlg.PosDefException(3)\nwhile loading In[30], in expression starting on line 1",
      "",
      " in chol! at linalg/cholesky.jl:28",
      " in chol at linalg/cholesky.jl:83"
     ]
    }
   ],
   "source": [
    "chol(A)"
   ]
  },
  {
   "cell_type": "code",
   "execution_count": 31,
   "metadata": {
    "collapsed": false
   },
   "outputs": [
    {
     "data": {
      "text/plain": [
       "(\n",
       "5x5 Array{Float64,2}:\n",
       " -0.52584     -0.156637   0.563142   0.350082   -0.509185 \n",
       " -0.00797372  -0.691365  -0.427519   0.565991    0.13723  \n",
       " -0.700055     0.424469  -0.569103   0.0752038   0.0146734\n",
       " -0.136002    -0.467441  -0.282171  -0.667946   -0.487063 \n",
       " -0.463524    -0.314331   0.310804  -0.324483    0.696027 ,\n",
       "\n",
       "5x5 Array{Float64,2}:\n",
       " -1.0146  -0.818619  -1.27645   -1.36615   -1.09114 \n",
       "  0.0     -1.23922   -0.304488  -0.806606  -0.954607\n",
       "  0.0      0.0        0.423693  -0.570799   0.449196\n",
       "  0.0      0.0        0.0       -0.390585  -0.500095\n",
       "  0.0      0.0        0.0        0.0       -0.211058)"
      ]
     },
     "execution_count": 31,
     "metadata": {},
     "output_type": "execute_result"
    }
   ],
   "source": [
    "qr(A)"
   ]
  }
 ],
 "metadata": {
  "kernelspec": {
   "display_name": "Julia 0.4.2",
   "language": "julia",
   "name": "julia-0.4"
  },
  "language_info": {
   "file_extension": ".jl",
   "mimetype": "application/julia",
   "name": "julia",
   "version": "0.4.2"
  }
 },
 "nbformat": 4,
 "nbformat_minor": 0
}
