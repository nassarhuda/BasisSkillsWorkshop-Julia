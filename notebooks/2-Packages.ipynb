{
 "cells": [
  {
   "cell_type": "markdown",
   "metadata": {},
   "source": [
    "# Packages in Julia"
   ]
  },
  {
   "cell_type": "code",
   "execution_count": 1,
   "metadata": {
    "collapsed": true
   },
   "outputs": [],
   "source": [
    "# you need to install packages in Julia to use certain functionality\n",
    "# let's start by checking the packages that we already have"
   ]
  },
  {
   "cell_type": "code",
   "execution_count": 2,
   "metadata": {
    "collapsed": false
   },
   "outputs": [
    {
     "name": "stdout",
     "output_type": "stream",
     "text": [
      "15 required packages:\n",
      " - GR                            0.10.0\n",
      " - Gadfly                        0.4.2\n",
      " - HDF5                          0.5.8\n",
      " - IJulia                        1.1.8              ca35a639 (dirty)\n",
      " - Immerse                       0.0.11\n",
      " - JLD                           0.5.9\n",
      " - Lexicon                       0.1.18\n",
      " - MAT                           0.2.14\n",
      " - MatrixNetworks                0.0.1\n",
      " - NPZ                           0.1.0\n",
      " - Plots                         0.5.3+             dev\n",
      " - PyPlot                        2.1.1\n",
      " - Qwt                           0.0.1\n",
      " - RDatasets                     0.1.2\n",
      " - UnicodePlots                  0.1.2\n",
      "55 additional packages:\n",
      " - ArrayViews                    0.6.4\n",
      " - BinDeps                       0.3.21\n",
      " - Blosc                         0.1.4\n",
      " - Cairo                         0.2.31\n",
      " - Calculus                      0.1.14\n",
      " - Codecs                        0.1.5\n",
      " - ColorTypes                    0.2.1\n",
      " - Colors                        0.6.3\n",
      " - Compat                        0.7.13\n",
      " - Compose                       0.4.2\n",
      " - Conda                         0.1.9\n",
      " - Contour                       0.1.0\n",
      " - DataArrays                    0.2.20\n",
      " - DataFrames                    0.7.0\n",
      " - DataStructures                0.4.3\n",
      " - Dates                         0.4.4\n",
      " - Distances                     0.3.0\n",
      " - Distributions                 0.8.10\n",
      " - Docile                        0.5.23\n",
      " - DualNumbers                   0.2.2\n",
      " - FileIO                        0.0.4\n",
      " - FixedPointNumbers             0.1.2\n",
      " - FixedSizeArrays               0.0.10\n",
      " - GZip                          0.2.18\n",
      " - Graphics                      0.1.3\n",
      " - Grid                          0.4.0\n",
      " - Gtk                           0.9.3\n",
      " - GtkUtilities                  0.0.8\n",
      " - Hexagons                      0.0.4\n",
      " - Homebrew                      0.2.0\n",
      " - ImmutableArrays               0.0.11\n",
      " - Iterators                     0.1.9\n",
      " - JSON                          0.5.0\n",
      " - KernelDensity                 0.1.2\n",
      " - LaTeXStrings                  0.1.6\n",
      " - Loess                         0.0.6\n",
      " - MacroTools                    0.3.0\n",
      " - Measures                      0.0.2\n",
      " - NaNMath                       0.2.1\n",
      " - Nettle                        0.2.2\n",
      " - Optim                         0.4.4\n",
      " - PDMats                        0.4.1\n",
      " - PyCall                        1.4.0\n",
      " - Reexport                      0.0.3\n",
      " - Requires                      0.2.2\n",
      " - SHA                           0.1.2\n",
      " - Showoff                       0.0.6\n",
      " - SortingAlgorithms             0.0.6\n",
      " - StatsBase                     0.8.0\n",
      " - StatsFuns                     0.2.0\n",
      " - URIParser                     0.1.3\n",
      " - WoodburyMatrices              0.1.5\n",
      " - ZMQ                           0.3.1\n",
      " - ZipFile                       0.2.6\n",
      " - Zlib                          0.1.12\n"
     ]
    }
   ],
   "source": [
    "Pkg.status()"
   ]
  },
  {
   "cell_type": "code",
   "execution_count": 3,
   "metadata": {
    "collapsed": false
   },
   "outputs": [
    {
     "name": "stderr",
     "output_type": "stream",
     "text": [
      "INFO: Updating METADATA...\n",
      "INFO: Updating cache of ColorTypes...\n",
      "INFO: Updating cache of IJulia...\n",
      "INFO: Updating cache of UnicodePlots...\n",
      "INFO: Updating Plots...\n",
      "INFO: Computing changes...\n",
      "INFO: Upgrading ColorTypes: v0.2.1 => v0.2.2\n",
      "INFO: Upgrading UnicodePlots: v0.1.2 => v0.1.3\n"
     ]
    }
   ],
   "source": [
    "Pkg.update()"
   ]
  },
  {
   "cell_type": "code",
   "execution_count": 19,
   "metadata": {
    "collapsed": false
   },
   "outputs": [
    {
     "name": "stderr",
     "output_type": "stream",
     "text": [
      "INFO: Nothing to be done\n"
     ]
    }
   ],
   "source": [
    "Pkg.add(\"MatrixNetworks\")"
   ]
  },
  {
   "cell_type": "code",
   "execution_count": 20,
   "metadata": {
    "collapsed": true
   },
   "outputs": [],
   "source": [
    "using MatrixNetworks"
   ]
  },
  {
   "cell_type": "code",
   "execution_count": 22,
   "metadata": {
    "collapsed": false
   },
   "outputs": [
    {
     "data": {
      "text/plain": [
       "21-element Array{Int64,1}:\n",
       " 1\n",
       " 1\n",
       " 1\n",
       " 1\n",
       " 1\n",
       " 1\n",
       " 1\n",
       " 1\n",
       " 1\n",
       " 1\n",
       " 1\n",
       " 1\n",
       " 1\n",
       " 1\n",
       " 1\n",
       " 2\n",
       " 3\n",
       " 3\n",
       " 3\n",
       " 3\n",
       " 3"
      ]
     },
     "execution_count": 22,
     "metadata": {},
     "output_type": "execute_result"
    }
   ],
   "source": [
    "A = load_matrix_network(\"cores_example\")\n",
    "  cc = scomponents(A)\n",
    "  scomponents(A).number\n",
    "  scomponents(A).sizes      \n",
    "  scomponents(A).map  \n",
    "  strong_components_map(A) "
   ]
  }
 ],
 "metadata": {
  "kernelspec": {
   "display_name": "Julia 0.4.2",
   "language": "julia",
   "name": "julia-0.4"
  },
  "language_info": {
   "file_extension": ".jl",
   "mimetype": "application/julia",
   "name": "julia",
   "version": "0.4.2"
  }
 },
 "nbformat": 4,
 "nbformat_minor": 0
}
